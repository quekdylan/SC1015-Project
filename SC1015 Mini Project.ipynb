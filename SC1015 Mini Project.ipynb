{
 "cells": [
  {
   "cell_type": "markdown",
   "id": "52291f41",
   "metadata": {},
   "source": [
    "\n",
    "\n",
    "### Background:\n",
    "\n",
    "In the dynamic automotive industry, accurately estimating vehicle prices is crucial for car owners looking to buy or sell their vehicles. However, crucial factors are often overlooked by traditional methods of pricing vehicles and leading to inaccurate price estimations.  \n",
    "\n",
    "--- \n",
    "\n",
    "### Objective:\n",
    "\n",
    "The objective is to help consumers analyse trends in the automotive market to estimate vehicle prices based on various attributes. By leveraging a dataset containing individual vehicle sales transactions and associated attributes, including condition, mileage, brand, and more, we aim to provide valuable insights and tools for market analysis and price prediction. "
   ]
  },
  {
   "cell_type": "code",
   "execution_count": null,
   "id": "c5926359",
   "metadata": {},
   "outputs": [],
   "source": [
    "# Basic Libraries\n",
    "import numpy as np\n",
    "import pandas as pd\n",
    "import seaborn as sb\n",
    "import matplotlib.pyplot as plt # we only need pyplot\n",
    "sb.set() # set the default Seaborn style for graphics\n",
    "\n",
    "# Import from Scikit-Learn\n",
    "from sklearn.tree import DecisionTreeClassifier\n",
    "from sklearn.model_selection import train_test_split\n",
    "from sklearn.tree import plot_tree\n",
    "from sklearn.metrics import confusion_matrix\n",
    "np.random.seed(0)"
   ]
  },
  {
   "cell_type": "code",
   "execution_count": null,
   "id": "dc086f41",
   "metadata": {
    "scrolled": true
   },
   "outputs": [],
   "source": [
    "# Import the Dataset\n",
    "sales_data = pd.read_csv('car_prices.csv')\n",
    "sales_data.head()"
   ]
  },
  {
   "cell_type": "code",
   "execution_count": null,
   "id": "6e40ae9c",
   "metadata": {},
   "outputs": [],
   "source": [
    "sales_data.info()"
   ]
  },
  {
   "cell_type": "markdown",
   "id": "f18893d2",
   "metadata": {},
   "source": [
    "###"
   ]
  },
  {
   "cell_type": "markdown",
   "id": "625317d8",
   "metadata": {},
   "source": [
    "Description of the dataset, as available on Kaggle, is as follows.\n",
    "Learn more : https://www.kaggle.com/datasets/syedanwarafridi/vehicle-sales-data/data\n",
    "> **year** : The manufacturing year of the vehicle         \n",
    "> **make** : The brand or manufacturer of the vehicle        \n",
    "> **model** : The specific model of the vehicle        \n",
    "> **trim** : Additional designation for the vehicle model       \n",
    "> **body** : The body type of the vehicle (e.g., SUV, Sedan)       \n",
    "> **transmission** : The type of transmission in the vehicle (e.g., automatic)       \n",
    "> **vin** : Vehicle Identification Number, a unique code for each vehicle      \n",
    "> **state** : The state where the vehicle is registered       \n",
    "> **condition** : Condition of the vehicle, possibly rated on a scale      \n",
    "> **odometer** : The mileage or distance traveled by the vehicle     \n",
    "> **color** : Exterior color of the vehicle    \n",
    "> **interior** : Interior color of the vehicle     \n",
    "> **seller** : The entity selling the vehicle      \n",
    "> **mmr** : Manheim Market Report, possibly indicating the estimated market value of the vehicle    \n",
    "> **sellingprice** : The price at which the vehicle was sold      \n",
    "> **saledate** : The date and time when the vehicle was sold    "
   ]
  },
  {
   "cell_type": "markdown",
   "id": "f6263887",
   "metadata": {},
   "source": [
    "---\n",
    "### Cleaning of Data (Review Lecture @20mins)\n",
    "\n",
    "\n",
    "Things to do:\n",
    "\n",
    "1. Rename column names to an understandable names\n",
    "2. Check for null values\n",
    "3. Remove columns with no meaning (optional)"
   ]
  },
  {
   "cell_type": "code",
   "execution_count": null,
   "id": "56c04d5b",
   "metadata": {
    "scrolled": true
   },
   "outputs": [],
   "source": [
    "# Rename of column names to new understandable names\n",
    "sales_data.rename(columns={\n",
    "    \"year\": \"Manufacturing Year\",\n",
    "    \"make\": \"Brand\",\n",
    "    \"trim\": \"Model Version\",\n",
    "    \"body\": \"Vehicle Type\",\n",
    "    \"transmission\" : \"Gear\",\n",
    "    \"vin\" : \"Vehicle ID\",\n",
    "    \"state\" : \"Registration State\",\n",
    "    \"odometer\" : \"Mileage\",\n",
    "    \"color\" : \"Exterior Colour\",\n",
    "    \"interior\" : \"Interior Colour\",\n",
    "    \"mmr\" : \"Market Value\",\n",
    "    \"sellingprice\" : \"Selling Price\",\n",
    "    \"saledate\" : \"Sale Date\"\n",
    "}, inplace=True)\n",
    "\n",
    "# Convert all variable names to uppercase\n",
    "sales_data.columns = sales_data.columns.str.upper()\n",
    "cleaned_data = sales_data\n",
    "cleaned_data.head()"
   ]
  },
  {
   "cell_type": "code",
   "execution_count": null,
   "id": "27fc7cbe",
   "metadata": {},
   "outputs": [],
   "source": [
    "# Cleaning the data (Check for NULL values)\n",
    "cleaned_data.isnull().sum()"
   ]
  },
  {
   "cell_type": "code",
   "execution_count": null,
   "id": "40ab3abe",
   "metadata": {},
   "outputs": [],
   "source": [
    "# Drop missing values\n",
    "cleaned_data.dropna(inplace=True)\n",
    "cleaned_data.isnull().sum()"
   ]
  },
  {
   "cell_type": "code",
   "execution_count": null,
   "id": "3aed0d24",
   "metadata": {},
   "outputs": [],
   "source": [
    "cleaned_data.info()"
   ]
  },
  {
   "cell_type": "code",
   "execution_count": null,
   "id": "10dc17e0",
   "metadata": {},
   "outputs": [],
   "source": [
    "cleaned_data.to_csv('cleaned_data.csv', index=False)"
   ]
  },
  {
   "cell_type": "markdown",
   "id": "5085c0dd-26b1-44c4-98cf-e80a1b8bdfb4",
   "metadata": {},
   "source": [
    "## Exploratory Data Analysis\n",
    "\n",
    "1. Separate Numerical and Categorical data\n",
    "\n",
    "#### Univariate Analysis\n",
    "2. Plot distributions of numerical data\n",
    "3. Plot distributions of categorical data\n",
    "\n",
    "#### Bivariate Analysis\n",
    "4. Plot predictors against response (Correlation)"
   ]
  },
  {
   "cell_type": "code",
   "execution_count": null,
   "id": "2e5d3193-bccb-402e-90a0-5a3d8a8bc537",
   "metadata": {
    "scrolled": true
   },
   "outputs": [],
   "source": [
    "# Display data types of each column\n",
    "print(cleaned_data.dtypes)\n",
    "\n",
    "# Separate Numerical and Categorical Variables\n",
    "numerical_columns = cleaned_data.select_dtypes(include=['int64','float64']).columns\n",
    "categorical_columns = cleaned_data.select_dtypes(include=['object']).columns"
   ]
  },
  {
   "cell_type": "code",
   "execution_count": null,
   "id": "4e90207b-989b-4f5d-b891-aad8499261cd",
   "metadata": {},
   "outputs": [],
   "source": [
    "# Distributions of numerical variables\n",
    "\n",
    "for col in numerical_columns:\n",
    "    f, axes = plt.subplots(1, 3, figsize=(24, 6))\n",
    "    sb.boxplot(data = cleaned_data[col], orient = \"h\", ax = axes[0])\n",
    "    sb.histplot(data = cleaned_data[col], ax = axes[1])\n",
    "    sb.violinplot(data = cleaned_data[col], orient = \"h\", ax = axes[2])\n",
    "    plt.show()"
   ]
  },
  {
   "cell_type": "code",
   "execution_count": null,
   "id": "c01cd7e1-99b5-4a8b-97e4-925f037db37c",
   "metadata": {},
   "outputs": [],
   "source": [
    "# Distributions of categorical variables\n",
    "\n",
    "# Find number of unique values for categorical columns\n",
    "unique_values_count = {column: cleaned_data[column].nunique() for column in categorical_columns}\n",
    "\n",
    "# Plot distributions for columns with less than 100 unique values\n",
    "for key, value in unique_values_count.items():\n",
    "    if value < 100:\n",
    "        plt.figure(figsize=(12, 10))\n",
    "    \n",
    "        # Skip SALE DATE for now due to preprocessing requirement\n",
    "        if key == 'SALE DATE':\n",
    "            continue\n",
    "            \n",
    "        sb.histplot(y=cleaned_data[key])\n",
    "        # Add a title and show the plot\n",
    "        plt.title(f'{key} Distribution')\n",
    "        plt.show()"
   ]
  },
  {
   "cell_type": "code",
   "execution_count": null,
   "id": "4f2a1ebf-adaa-4a3c-b7d9-3f67cea07ce3",
   "metadata": {},
   "outputs": [],
   "source": [
    "# Correlation between numerical variables and sale price\n",
    "for col in numerical_columns:\n",
    "    #f, axes = plt.subplots(10, 2, figsize=(24, 6))\n",
    "    # Create a joint dataframe by concatenating the two variables\n",
    "    df = pd.concat([cleaned_data[col], cleaned_data[\"SELLING PRICE\"]], axis = 1).reindex(cleaned_data[col].index)\n",
    "    \n",
    "    # Jointplot    \n",
    "    sb.jointplot(data = cleaned_data, x = col, y = \"SELLING PRICE\", height = 12)\n",
    "    plt.show()"
   ]
  },
  {
   "cell_type": "code",
   "execution_count": null,
   "id": "737c4ec0-d67f-4a58-a472-b77875d0efad",
   "metadata": {},
   "outputs": [],
   "source": [
    "# Correlation between Response and the Predictors\n",
    "numeric_df = cleaned_data.select_dtypes(include=['int64','float64'])\n",
    "f = plt.figure(figsize=(12, 8))\n",
    "sb.heatmap(numeric_df.corr(), vmin = -1, vmax = 1, annot = True, fmt = \".2f\")\n",
    "plt.title('Correlation Matrix between numeric variables', fontsize=20)\n",
    "plt.show()\n",
    "\n",
    "sb.pairplot(data = numeric_df)\n",
    "plt.show()"
   ]
  },
  {
   "cell_type": "code",
   "execution_count": null,
   "id": "a831ba78-ca57-432a-be64-6efdd4395528",
   "metadata": {},
   "outputs": [],
   "source": [
    "# Categorical variables against sale price\n",
    "\n",
    "# Plot distributions for columns with less than 100 unique values\n",
    "for col, value in unique_values_count.items():\n",
    "    if value < 100:\n",
    "        #f, axes = plt.subplots(10, 2, figsize=(24, 6))\n",
    "        # Create a joint dataframe by concatenating the two variables\n",
    "        df = pd.concat([cleaned_data[col], cleaned_data[\"SELLING PRICE\"]], axis = 1)\n",
    "        \n",
    "        # Jointplot    \n",
    "        f = plt.figure(figsize=(12, 8))\n",
    "        sb.boxplot(x = \"SELLING PRICE\", y = col, data = df)\n",
    "        plt.show()\n"
   ]
  }
 ],
 "metadata": {
  "kernelspec": {
   "display_name": "Python 3 (ipykernel)",
   "language": "python",
   "name": "python3"
  },
  "language_info": {
   "codemirror_mode": {
    "name": "ipython",
    "version": 3
   },
   "file_extension": ".py",
   "mimetype": "text/x-python",
   "name": "python",
   "nbconvert_exporter": "python",
   "pygments_lexer": "ipython3",
   "version": "3.11.7"
  }
 },
 "nbformat": 4,
 "nbformat_minor": 5
}
