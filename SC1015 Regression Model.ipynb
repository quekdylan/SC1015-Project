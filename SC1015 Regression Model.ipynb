{
 "cells": [
  {
   "cell_type": "code",
   "execution_count": null,
   "id": "f9fa22d6-6ee1-45ec-aa49-d2680e21ba53",
   "metadata": {},
   "outputs": [],
   "source": [
    "#!pip install numpy\n",
    "#!pip install pandas\n",
    "#!pip install scikit-learn\n",
    "#!pip install seaborn"
   ]
  },
  {
   "cell_type": "code",
   "execution_count": null,
   "id": "cf1d1941-897e-4977-a8b7-56cb6012d038",
   "metadata": {},
   "outputs": [],
   "source": [
    "import numpy as np\n",
    "import pandas as pd\n",
    "\n",
    "from sklearn.linear_model import LinearRegression\n",
    "from sklearn.tree import DecisionTreeRegressor\n",
    "from sklearn.ensemble import RandomForestRegressor\n",
    "from sklearn.ensemble import GradientBoostingRegressor\n",
    "\n",
    "from sklearn.model_selection import train_test_split\n",
    "\n",
    "from sklearn.metrics import mean_squared_error, r2_score, mean_absolute_error\n",
    "from sklearn.preprocessing import OneHotEncoder, LabelEncoder"
   ]
  },
  {
   "cell_type": "code",
   "execution_count": null,
   "id": "c21bc067-550e-4509-8aa1-7dd292105ed1",
   "metadata": {},
   "outputs": [],
   "source": [
    "df = pd.read_csv('cleaned_data.csv')\n",
    "df.head()"
   ]
  },
  {
   "cell_type": "markdown",
   "id": "67bac545-0d46-44db-a7e3-d0d151c3a940",
   "metadata": {},
   "source": [
    "# Linear Regression"
   ]
  },
  {
   "cell_type": "markdown",
   "id": "b7eadd81-99f0-4304-ad6b-4e257eaaf76f",
   "metadata": {},
   "source": [
    "## Numeric Only"
   ]
  },
  {
   "cell_type": "markdown",
   "id": "1568bd18-1351-47be-8fde-54d02bb4faae",
   "metadata": {},
   "source": [
    "#### 'MILEAGE', 'MANUFACTURING YEAR', 'CONDITION'"
   ]
  },
  {
   "cell_type": "code",
   "execution_count": null,
   "id": "872acda2-657f-439a-aa3b-6d6b1d122fb7",
   "metadata": {},
   "outputs": [],
   "source": [
    "# Assuming your data is in a pandas DataFrame called 'df'\n",
    "features = ['MILEAGE', 'MANUFACTURING YEAR', 'CONDITION'] \n",
    "target = 'SELLING PRICE'\n",
    "\n",
    "X = df[features]\n",
    "y = df[target]\n",
    "\n",
    "X_train, X_test, y_train, y_test = train_test_split(X, y, test_size=0.2, random_state=42) \n",
    "\n",
    "model = LinearRegression()\n",
    "model.fit(X_train, y_train)"
   ]
  },
  {
   "cell_type": "code",
   "execution_count": null,
   "id": "b85b1f29-2dca-43c6-a195-28edee8d5b39",
   "metadata": {},
   "outputs": [],
   "source": [
    "y_pred = model.predict(X_test)  # Predicted prices\n",
    "\n",
    "mse = mean_squared_error(y_test, y_pred)\n",
    "rmse = np.sqrt(mse)\n",
    "r2 = r2_score(y_test, y_pred)\n",
    "mae = mean_absolute_error(y_test, y_pred)\n",
    "\n",
    "# Print the metrics\n",
    "print(\"Mean Squared Error:\", mse)\n",
    "print(\"Root Mean Squared Error:\", rmse)\n",
    "print(\"R-squared:\", r2)\n",
    "print(\"Mean Absolute Error:\", mae)"
   ]
  },
  {
   "cell_type": "markdown",
   "id": "b1cdab8a-1b36-4e8d-a897-a4a1257ed2a5",
   "metadata": {},
   "source": [
    "#### 'MILEAGE', 'MANUFACTURING YEAR', 'CONDITION', 'MARKET VALUE'"
   ]
  },
  {
   "cell_type": "code",
   "execution_count": null,
   "id": "fd8de472-c5d9-4cb3-ac68-bc034e37c408",
   "metadata": {},
   "outputs": [],
   "source": [
    "features = ['MILEAGE', 'MANUFACTURING YEAR', 'CONDITION', 'MARKET VALUE'] \n",
    "target = 'SELLING PRICE'\n",
    "\n",
    "X = df[features]\n",
    "y = df[target]\n",
    "\n",
    "X_train, X_test, y_train, y_test = train_test_split(X, y, test_size=0.2, random_state=42) \n",
    "\n",
    "model = LinearRegression()\n",
    "model.fit(X_train, y_train)"
   ]
  },
  {
   "cell_type": "code",
   "execution_count": null,
   "id": "b4ad5cb7-1925-4899-85b5-af871e750064",
   "metadata": {},
   "outputs": [],
   "source": [
    "y_true = y_test  # Actual prices\n",
    "y_pred = model.predict(X_test)  # Predicted prices\n",
    "\n",
    "mse = mean_squared_error(y_test, y_pred)\n",
    "rmse = np.sqrt(mse)\n",
    "r2 = r2_score(y_test, y_pred)\n",
    "mae = mean_absolute_error(y_test, y_pred)\n",
    "\n",
    "# Print the metrics\n",
    "print(\"Mean Squared Error:\", mse)\n",
    "print(\"Root Mean Squared Error:\", rmse)\n",
    "print(\"R-squared:\", r2)\n",
    "print(\"Mean Absolute Error:\", mae)"
   ]
  },
  {
   "cell_type": "markdown",
   "id": "f1fdffda-e71f-4b51-ba26-48d344c2637f",
   "metadata": {},
   "source": [
    "## With Categorical (One Hot Encoded)"
   ]
  },
  {
   "cell_type": "code",
   "execution_count": null,
   "id": "d6b05df4-e904-4225-a802-2120551b8f71",
   "metadata": {},
   "outputs": [],
   "source": [
    "# Initialisation for One Hot Encoder\n",
    "encoder = OneHotEncoder(handle_unknown='ignore', sparse_output=False).set_output(transform='pandas') "
   ]
  },
  {
   "cell_type": "markdown",
   "id": "7e577e6f-0a8f-41a7-9936-67fecb24671c",
   "metadata": {},
   "source": [
    "#### 'MILEAGE', 'MANUFACTURING YEAR', 'CONDITION', 'BRAND', 'MODEL'"
   ]
  },
  {
   "cell_type": "code",
   "execution_count": null,
   "id": "c6162233-94e9-49e5-8b88-eabbfe3dca0a",
   "metadata": {},
   "outputs": [],
   "source": [
    "encoded_data = encoder.fit_transform(df[['BRAND', 'MODEL']]) "
   ]
  },
  {
   "cell_type": "code",
   "execution_count": null,
   "id": "5482dd0f-0ad4-489b-9d39-0d8acfcedd7a",
   "metadata": {
    "scrolled": true
   },
   "outputs": [],
   "source": [
    "features = ['MILEAGE', 'MANUFACTURING YEAR', 'CONDITION']\n",
    "target = 'SELLING PRICE'\n",
    "\n",
    "X = pd.concat([df[features], encoded_data], axis=1)\n",
    "y = df[target]\n",
    "\n",
    "X_train, X_test, y_train, y_test = train_test_split(X, y, test_size=0.2, random_state=42)\n",
    "\n",
    "model = LinearRegression()\n",
    "model.fit(X_train, y_train)"
   ]
  },
  {
   "cell_type": "code",
   "execution_count": null,
   "id": "e5579263-f88a-4d3e-8048-f69e81619d97",
   "metadata": {},
   "outputs": [],
   "source": [
    "y_pred = model.predict(X_test)\n",
    "\n",
    "mse = mean_squared_error(y_test, y_pred)\n",
    "rmse = np.sqrt(mse)\n",
    "r2 = r2_score(y_test, y_pred)\n",
    "mae = mean_absolute_error(y_test, y_pred)\n",
    "\n",
    "print(\"Mean Squared Error:\", mse)\n",
    "print(\"Root Mean Squared Error:\", rmse)\n",
    "print(\"R-squared:\", r2)\n",
    "print(\"Mean Absolute Error:\", mae)"
   ]
  },
  {
   "cell_type": "markdown",
   "id": "ac072984-1c34-4f92-881a-d9d3ad4a77c4",
   "metadata": {},
   "source": [
    "## With Categorical (Label Encoded)"
   ]
  },
  {
   "cell_type": "markdown",
   "id": "53585575-cc3d-41a4-83c4-629856bdb495",
   "metadata": {},
   "source": [
    "#### 'MILEAGE', 'MANUFACTURING YEAR', 'CONDITION', 'BRAND', 'MODEL'"
   ]
  },
  {
   "cell_type": "code",
   "execution_count": null,
   "id": "96d1079b-9bdd-49a0-9b67-828b089a2347",
   "metadata": {},
   "outputs": [],
   "source": [
    "encoder = LabelEncoder()\n",
    "df['BRAND_encoded'] = encoder.fit_transform(df['BRAND']) \n",
    "df['MODEL_encoded'] = encoder.fit_transform(df['MODEL']) \n",
    "df['VEHICLE TYPE_encoded'] = encoder.fit_transform(df['VEHICLE TYPE']) \n",
    "df['MODEL VERSION_encoded'] = encoder.fit_transform(df['MODEL VERSION']) "
   ]
  },
  {
   "cell_type": "code",
   "execution_count": null,
   "id": "9d2b8dd9-ebe7-4980-a2a6-556b9e450d7f",
   "metadata": {},
   "outputs": [],
   "source": [
    "features = ['MILEAGE', 'MANUFACTURING YEAR', 'CONDITION', 'BRAND_encoded', 'MODEL_encoded']\n",
    "target = 'SELLING PRICE'\n",
    "\n",
    "X = df[features]\n",
    "y = df[target]\n",
    "\n",
    "X_train, X_test, y_train, y_test = train_test_split(X, y, test_size=0.2, random_state=42)\n",
    "\n",
    "model = LinearRegression()\n",
    "model.fit(X_train, y_train)"
   ]
  },
  {
   "cell_type": "code",
   "execution_count": null,
   "id": "16d3540e-a729-432a-bedd-d0f6d8cea0e4",
   "metadata": {},
   "outputs": [],
   "source": [
    "y_pred = model.predict(X_test)  # Predicted prices\n",
    "\n",
    "mse = mean_squared_error(y_test, y_pred)\n",
    "rmse = np.sqrt(mse)\n",
    "r2 = r2_score(y_test, y_pred)\n",
    "mae = mean_absolute_error(y_test, y_pred)\n",
    "\n",
    "# Print the metrics\n",
    "print(\"Mean Squared Error:\", mse)\n",
    "print(\"Root Mean Squared Error:\", rmse)\n",
    "print(\"R-squared:\", r2)\n",
    "print(\"Mean Absolute Error:\", mae)"
   ]
  },
  {
   "cell_type": "markdown",
   "id": "1c92833b-d704-4aca-ba14-fb594274c6b6",
   "metadata": {},
   "source": [
    "# Regression Tree"
   ]
  },
  {
   "cell_type": "markdown",
   "id": "d639a971-827a-4021-bd41-cfa2d1af13a4",
   "metadata": {},
   "source": [
    "## Numeric Only"
   ]
  },
  {
   "cell_type": "markdown",
   "id": "3e557de3-81a3-484f-8808-4e19d0477f33",
   "metadata": {},
   "source": [
    "#### 'MILEAGE', 'MANUFACTURING YEAR', 'CONDITION'"
   ]
  },
  {
   "cell_type": "code",
   "execution_count": null,
   "id": "98085ac9-17ab-4d69-bf6d-3b124eb224b9",
   "metadata": {},
   "outputs": [],
   "source": [
    "# Assuming your data is in a pandas DataFrame called 'df'\n",
    "features = ['MILEAGE', 'MANUFACTURING YEAR', 'CONDITION'] \n",
    "target = 'SELLING PRICE'\n",
    "\n",
    "X = df[features]\n",
    "y = df[target]\n",
    "\n",
    "X_train, X_test, y_train, y_test = train_test_split(X, y, test_size=0.2, random_state=42) \n",
    "\n",
    "model = DecisionTreeRegressor(random_state=42)\n",
    "model.fit(X_train, y_train)"
   ]
  },
  {
   "cell_type": "code",
   "execution_count": null,
   "id": "71509718-b9c6-4d07-8eb4-5972bc493236",
   "metadata": {},
   "outputs": [],
   "source": [
    "y_pred = model.predict(X_test)  # Predicted prices\n",
    "\n",
    "mse = mean_squared_error(y_test, y_pred)\n",
    "rmse = np.sqrt(mse)\n",
    "r2 = r2_score(y_test, y_pred)\n",
    "mae = mean_absolute_error(y_test, y_pred)\n",
    "\n",
    "# Print the metrics\n",
    "print(\"Mean Squared Error:\", mse)\n",
    "print(\"Root Mean Squared Error:\", rmse)\n",
    "print(\"R-squared:\", r2)\n",
    "print(\"Mean Absolute Error:\", mae)"
   ]
  },
  {
   "cell_type": "markdown",
   "id": "1c789c9d-f881-4557-9203-9357204c05a3",
   "metadata": {},
   "source": [
    "#### 'MILEAGE', 'MANUFACTURING YEAR', 'CONDITION', 'MARKET VALUE'"
   ]
  },
  {
   "cell_type": "code",
   "execution_count": null,
   "id": "412eb341-1d6f-429f-9803-8aa7d27f44d8",
   "metadata": {},
   "outputs": [],
   "source": [
    "features = ['MILEAGE', 'MANUFACTURING YEAR', 'CONDITION', 'MARKET VALUE'] \n",
    "target = 'SELLING PRICE'\n",
    "\n",
    "X = df[features]\n",
    "y = df[target]\n",
    "\n",
    "X_train, X_test, y_train, y_test = train_test_split(X, y, test_size=0.2, random_state=42) \n",
    "\n",
    "model = DecisionTreeRegressor(random_state=42)\n",
    "model.fit(X_train, y_train)"
   ]
  },
  {
   "cell_type": "code",
   "execution_count": null,
   "id": "92b934e8-e3b5-4bf3-8fa0-7a561b394158",
   "metadata": {},
   "outputs": [],
   "source": [
    "y_true = y_test  # Actual prices\n",
    "y_pred = model.predict(X_test)  # Predicted prices\n",
    "\n",
    "mse = mean_squared_error(y_test, y_pred)\n",
    "rmse = np.sqrt(mse)\n",
    "r2 = r2_score(y_test, y_pred)\n",
    "mae = mean_absolute_error(y_test, y_pred)\n",
    "\n",
    "# Print the metrics\n",
    "print(\"Mean Squared Error:\", mse)\n",
    "print(\"Root Mean Squared Error:\", rmse)\n",
    "print(\"R-squared:\", r2)\n",
    "print(\"Mean Absolute Error:\", mae)"
   ]
  },
  {
   "cell_type": "markdown",
   "id": "2e1104d6-1702-4799-acae-81a6f9e6e5c2",
   "metadata": {},
   "source": [
    "## With Categorical (One Hot Encoded)"
   ]
  },
  {
   "cell_type": "code",
   "execution_count": null,
   "id": "17e24ed8-9260-4b50-8293-226688d92063",
   "metadata": {},
   "outputs": [],
   "source": [
    "# Initialisation for One Hot Encoder\n",
    "encoder = OneHotEncoder(handle_unknown='ignore', sparse_output=False).set_output(transform='pandas') "
   ]
  },
  {
   "cell_type": "markdown",
   "id": "444beacd-328a-4851-8a98-f2f69f00b96f",
   "metadata": {},
   "source": [
    "#### 'MILEAGE', 'MANUFACTURING YEAR', 'CONDITION', 'BRAND', 'MODEL'"
   ]
  },
  {
   "cell_type": "code",
   "execution_count": null,
   "id": "8d748667-73ca-4f54-9872-d1165fca5b19",
   "metadata": {},
   "outputs": [],
   "source": [
    "encoded_data = encoder.fit_transform(df[['BRAND', 'MODEL']]) "
   ]
  },
  {
   "cell_type": "code",
   "execution_count": null,
   "id": "55d038a9-3fda-4a9c-9f39-369e56ec540f",
   "metadata": {
    "scrolled": true
   },
   "outputs": [],
   "source": [
    "features = ['MILEAGE', 'MANUFACTURING YEAR', 'CONDITION']\n",
    "target = 'SELLING PRICE'\n",
    "\n",
    "X = pd.concat([df[features], encoded_data], axis=1)\n",
    "y = df[target]\n",
    "\n",
    "X_train, X_test, y_train, y_test = train_test_split(X, y, test_size=0.2, random_state=42)\n",
    "\n",
    "model = DecisionTreeRegressor(random_state=42)\n",
    "model.fit(X_train, y_train)"
   ]
  },
  {
   "cell_type": "code",
   "execution_count": null,
   "id": "514a4b3e-016d-46b8-9bc9-5b211dadf5bd",
   "metadata": {},
   "outputs": [],
   "source": [
    "y_pred = model.predict(X_test)\n",
    "\n",
    "mse = mean_squared_error(y_test, y_pred)\n",
    "rmse = np.sqrt(mse)\n",
    "r2 = r2_score(y_test, y_pred)\n",
    "mae = mean_absolute_error(y_test, y_pred)\n",
    "\n",
    "print(\"Mean Squared Error:\", mse)\n",
    "print(\"Root Mean Squared Error:\", rmse)\n",
    "print(\"R-squared:\", r2)\n",
    "print(\"Mean Absolute Error:\", mae)"
   ]
  },
  {
   "cell_type": "markdown",
   "id": "134203e1-261c-4893-9ddf-33cc31b9208d",
   "metadata": {},
   "source": [
    "## With Categorical (Label Encoded)"
   ]
  },
  {
   "cell_type": "markdown",
   "id": "739f7333-2a09-41a7-9014-9b4d1be5fb89",
   "metadata": {},
   "source": [
    "#### 'MILEAGE', 'MANUFACTURING YEAR', 'CONDITION', 'BRAND', 'MODEL'"
   ]
  },
  {
   "cell_type": "code",
   "execution_count": null,
   "id": "fbffab9d-a3ba-494a-8c33-aae9b2fd0c51",
   "metadata": {},
   "outputs": [],
   "source": [
    "encoder = LabelEncoder()\n",
    "df['BRAND_encoded'] = encoder.fit_transform(df['BRAND']) \n",
    "df['MODEL_encoded'] = encoder.fit_transform(df['MODEL']) \n",
    "df['VEHICLE TYPE_encoded'] = encoder.fit_transform(df['VEHICLE TYPE']) \n",
    "df['MODEL VERSION_encoded'] = encoder.fit_transform(df['MODEL VERSION']) "
   ]
  },
  {
   "cell_type": "code",
   "execution_count": null,
   "id": "b1a37dbd-27ef-45a5-b506-0a6ec0576a21",
   "metadata": {},
   "outputs": [],
   "source": [
    "features = ['MILEAGE', 'MANUFACTURING YEAR', 'CONDITION', 'BRAND_encoded', 'MODEL_encoded']\n",
    "target = 'SELLING PRICE'\n",
    "\n",
    "X = df[features]\n",
    "y = df[target]\n",
    "\n",
    "X_train, X_test, y_train, y_test = train_test_split(X, y, test_size=0.2, random_state=42)\n",
    "\n",
    "model = DecisionTreeRegressor(random_state=42)\n",
    "model.fit(X_train, y_train)"
   ]
  },
  {
   "cell_type": "code",
   "execution_count": null,
   "id": "15fdb6cb-ce98-4e3e-ac05-b71d819b7cd6",
   "metadata": {},
   "outputs": [],
   "source": [
    "y_pred = model.predict(X_test)  # Predicted prices\n",
    "\n",
    "mse = mean_squared_error(y_test, y_pred)\n",
    "rmse = np.sqrt(mse)\n",
    "r2 = r2_score(y_test, y_pred)\n",
    "mae = mean_absolute_error(y_test, y_pred)\n",
    "\n",
    "# Print the metrics\n",
    "print(\"Mean Squared Error:\", mse)\n",
    "print(\"Root Mean Squared Error:\", rmse)\n",
    "print(\"R-squared:\", r2)\n",
    "print(\"Mean Absolute Error:\", mae)"
   ]
  },
  {
   "cell_type": "code",
   "execution_count": null,
   "id": "883b19c2-ba29-4f57-a54e-264223745c7f",
   "metadata": {},
   "outputs": [],
   "source": []
  }
 ],
 "metadata": {
  "kernelspec": {
   "display_name": "Python 3 (ipykernel)",
   "language": "python",
   "name": "python3"
  },
  "language_info": {
   "codemirror_mode": {
    "name": "ipython",
    "version": 3
   },
   "file_extension": ".py",
   "mimetype": "text/x-python",
   "name": "python",
   "nbconvert_exporter": "python",
   "pygments_lexer": "ipython3",
   "version": "3.10.11"
  }
 },
 "nbformat": 4,
 "nbformat_minor": 5
}
